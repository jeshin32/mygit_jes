{
 "cells": [
  {
   "cell_type": "markdown",
   "metadata": {
    "slideshow": {
     "slide_type": "subslide"
    }
   },
   "source": [
    "## 요청 보내기"
   ]
  },
  {
   "cell_type": "code",
   "execution_count": 34,
   "metadata": {
    "slideshow": {
     "slide_type": "fragment"
    }
   },
   "outputs": [],
   "source": [
    "#!pip install requests\n",
    "import requests"
   ]
  },
  {
   "cell_type": "markdown",
   "metadata": {
    "slideshow": {
     "slide_type": "fragment"
    }
   },
   "source": [
    "GET 요청을 보내고 응답을 받아와 `res` 변수에 할당한다."
   ]
  },
  {
   "cell_type": "code",
   "execution_count": 35,
   "metadata": {
    "slideshow": {
     "slide_type": "fragment"
    }
   },
   "outputs": [],
   "source": [
    "url = 'https://news.naver.com/'\n",
    "res = requests.get(url)"
   ]
  },
  {
   "cell_type": "code",
   "execution_count": 36,
   "metadata": {},
   "outputs": [
    {
     "data": {
      "text/plain": [
       "<Response [200]>"
      ]
     },
     "execution_count": 36,
     "metadata": {},
     "output_type": "execute_result"
    }
   ],
   "source": [
    "res"
   ]
  },
  {
   "cell_type": "markdown",
   "metadata": {},
   "source": [
    "응답의 상태 코드를 확인하면 200번을 얻는다."
   ]
  },
  {
   "cell_type": "code",
   "execution_count": 37,
   "metadata": {
    "slideshow": {
     "slide_type": "fragment"
    }
   },
   "outputs": [
    {
     "data": {
      "text/plain": [
       "200"
      ]
     },
     "execution_count": 37,
     "metadata": {},
     "output_type": "execute_result"
    }
   ],
   "source": [
    "res.status_code"
   ]
  },
  {
   "cell_type": "markdown",
   "metadata": {
    "slideshow": {
     "slide_type": "subslide"
    }
   },
   "source": [
    "## 상태코드\n",
    "\n",
    "- 2XX: 성공\n",
    "- 3XX: 다른 주소로 이동\n",
    "- 4XX: 클라이언트 오류\n",
    "  - 404: 존재하지 않는 주소\n",
    "- 5XX: 서버 오류\n",
    "  - 503: 서버가 다운 등의 문제로 서비스 불가 상태"
   ]
  },
  {
   "cell_type": "markdown",
   "metadata": {
    "slideshow": {
     "slide_type": "slide"
    }
   },
   "source": [
    "## HTML\n",
    "\n",
    "- 웹 페이지의 내용을 표현하는 방법\n",
    "- 노드라는 단위로 구성\n",
    "- 하나의 노드는 여는 태그, 태그의 내용, 닫는 태그로 구성\n",
    "- 예: `<a href=\"http://www.google.com\">구글</a>`\n",
    "  - 여는 태그: `<a href=\"http://www.google.com\">`\n",
    "  - 내용: `구글`\n",
    "  - 닫는 태그: `</a>`"
   ]
  },
  {
   "cell_type": "markdown",
   "metadata": {
    "slideshow": {
     "slide_type": "subslide"
    }
   },
   "source": [
    "## 개발자 도구\n",
    "\n",
    "- 웹 브라우저에서 F12 또는 우클릭 후 \"검사\" 메뉴를 클릭하면 개발자도구로 진입\n",
    "- HTML의 구조와 통신 내역 등을 확인"
   ]
  },
  {
   "cell_type": "markdown",
   "metadata": {
    "slideshow": {
     "slide_type": "subslide"
    }
   },
   "source": [
    "## HTML의 주요 태그\n",
    "\n",
    "- div: 구역(division)\n",
    "- span: 범위(span)\n",
    "- ul: 번호 없는 리스트(unordered list)\n",
    "- ol: 번호 리스트(ordered list)\n",
    "- li: 리스트 항목(list item)\n",
    "- a: 링크(anchor)"
   ]
  },
  {
   "cell_type": "code",
   "execution_count": 38,
   "metadata": {
    "slideshow": {
     "slide_type": "fragment"
    }
   },
   "outputs": [
    {
     "name": "stdout",
     "output_type": "stream",
     "text": [
      "Requirement already satisfied: cssselect in c:\\programdata\\anaconda3\\lib\\site-packages (1.0.3)\n"
     ]
    }
   ],
   "source": [
    "!pip install cssselect"
   ]
  },
  {
   "cell_type": "markdown",
   "metadata": {
    "slideshow": {
     "slide_type": "fragment"
    }
   },
   "source": [
    "HTML 해석을 위한 `lxml.html`을 불러온다."
   ]
  },
  {
   "cell_type": "code",
   "execution_count": 39,
   "metadata": {
    "slideshow": {
     "slide_type": "fragment"
    }
   },
   "outputs": [],
   "source": [
    "import lxml.html"
   ]
  },
  {
   "cell_type": "markdown",
   "metadata": {
    "slideshow": {
     "slide_type": "fragment"
    }
   },
   "source": [
    "응답의 텍스트(`res.text`)를 해석한다."
   ]
  },
  {
   "cell_type": "code",
   "execution_count": 40,
   "metadata": {
    "slideshow": {
     "slide_type": "fragment"
    }
   },
   "outputs": [],
   "source": [
    "root = lxml.html.fromstring(res.text)"
   ]
  },
  {
   "cell_type": "markdown",
   "metadata": {
    "slideshow": {
     "slide_type": "fragment"
    }
   },
   "source": [
    "`a` 태그를 모두 찾는다."
   ]
  },
  {
   "cell_type": "code",
   "execution_count": 41,
   "metadata": {
    "scrolled": true,
    "slideshow": {
     "slide_type": "fragment"
    }
   },
   "outputs": [
    {
     "data": {
      "text/plain": [
       "[<Element a at 0x92e47c8>,\n",
       " <Element a at 0x92e4728>,\n",
       " <Element a at 0x92e4818>,\n",
       " <Element a at 0x92e4868>,\n",
       " <Element a at 0x92e48b8>,\n",
       " <Element a at 0x92e4908>,\n",
       " <Element a at 0x92e4958>,\n",
       " <Element a at 0x92e49a8>,\n",
       " <Element a at 0x92e49f8>,\n",
       " <Element a at 0x92e4a48>,\n",
       " <Element a at 0x92e4a98>,\n",
       " <Element a at 0x92e4ae8>,\n",
       " <Element a at 0x92e4b38>,\n",
       " <Element a at 0x92e4b88>,\n",
       " <Element a at 0x92e4bd8>,\n",
       " <Element a at 0x92e4c28>,\n",
       " <Element a at 0x92e4c78>,\n",
       " <Element a at 0x92e4cc8>,\n",
       " <Element a at 0x92e4d18>,\n",
       " <Element a at 0x92e4d68>,\n",
       " <Element a at 0x92e4db8>,\n",
       " <Element a at 0x92e4e08>,\n",
       " <Element a at 0x92e4e58>,\n",
       " <Element a at 0x92e4ea8>,\n",
       " <Element a at 0x92e4ef8>,\n",
       " <Element a at 0x92e4f48>,\n",
       " <Element a at 0x92e4f98>,\n",
       " <Element a at 0x92e8048>,\n",
       " <Element a at 0x92e8098>,\n",
       " <Element a at 0x92e80e8>,\n",
       " <Element a at 0x92e8138>,\n",
       " <Element a at 0x92e8188>,\n",
       " <Element a at 0x92e81d8>,\n",
       " <Element a at 0x92e8228>,\n",
       " <Element a at 0x92e8278>,\n",
       " <Element a at 0x92e82c8>,\n",
       " <Element a at 0x92e8318>,\n",
       " <Element a at 0x92e8368>,\n",
       " <Element a at 0x92e83b8>,\n",
       " <Element a at 0x92e8408>,\n",
       " <Element a at 0x92e8458>,\n",
       " <Element a at 0x92e84a8>,\n",
       " <Element a at 0x92e84f8>,\n",
       " <Element a at 0x92e8548>,\n",
       " <Element a at 0x92e8598>,\n",
       " <Element a at 0x92e85e8>,\n",
       " <Element a at 0x92e8638>,\n",
       " <Element a at 0x92e8688>,\n",
       " <Element a at 0x92e86d8>,\n",
       " <Element a at 0x92e8728>,\n",
       " <Element a at 0x92e8778>,\n",
       " <Element a at 0x92e87c8>,\n",
       " <Element a at 0x92e8818>,\n",
       " <Element a at 0x92e8868>,\n",
       " <Element a at 0x92e88b8>,\n",
       " <Element a at 0x92e8908>,\n",
       " <Element a at 0x92e8958>,\n",
       " <Element a at 0x92e89a8>,\n",
       " <Element a at 0x92e89f8>,\n",
       " <Element a at 0x92e8a48>,\n",
       " <Element a at 0x92e8a98>,\n",
       " <Element a at 0x92e8ae8>,\n",
       " <Element a at 0x92e8b38>,\n",
       " <Element a at 0x92e8b88>,\n",
       " <Element a at 0x92e8bd8>,\n",
       " <Element a at 0x92e8c28>,\n",
       " <Element a at 0x92e8c78>,\n",
       " <Element a at 0x92e8cc8>,\n",
       " <Element a at 0x92e8d18>,\n",
       " <Element a at 0x92e8d68>,\n",
       " <Element a at 0x92e8db8>,\n",
       " <Element a at 0x92e8e08>,\n",
       " <Element a at 0x92e8e58>,\n",
       " <Element a at 0x92e8ea8>,\n",
       " <Element a at 0x92e8ef8>,\n",
       " <Element a at 0x92e8f48>,\n",
       " <Element a at 0x92e8f98>,\n",
       " <Element a at 0x92e9048>,\n",
       " <Element a at 0x92e9098>,\n",
       " <Element a at 0x92e90e8>,\n",
       " <Element a at 0x92e9138>,\n",
       " <Element a at 0x92e9188>,\n",
       " <Element a at 0x92e91d8>,\n",
       " <Element a at 0x92e9228>,\n",
       " <Element a at 0x92e9278>,\n",
       " <Element a at 0x92e92c8>,\n",
       " <Element a at 0x92e9318>,\n",
       " <Element a at 0x92e9368>,\n",
       " <Element a at 0x92e93b8>,\n",
       " <Element a at 0x92e9408>,\n",
       " <Element a at 0x92e9458>,\n",
       " <Element a at 0x92e94a8>,\n",
       " <Element a at 0x92e94f8>,\n",
       " <Element a at 0x92e9548>,\n",
       " <Element a at 0x92e9598>,\n",
       " <Element a at 0x92e95e8>,\n",
       " <Element a at 0x92e9638>,\n",
       " <Element a at 0x92e9688>,\n",
       " <Element a at 0x92e96d8>,\n",
       " <Element a at 0x92e9728>,\n",
       " <Element a at 0x92e9778>,\n",
       " <Element a at 0x92e97c8>,\n",
       " <Element a at 0x92e9818>,\n",
       " <Element a at 0x92e9868>,\n",
       " <Element a at 0x92e98b8>,\n",
       " <Element a at 0x92e9908>,\n",
       " <Element a at 0x92e9958>,\n",
       " <Element a at 0x92e99a8>,\n",
       " <Element a at 0x92e99f8>,\n",
       " <Element a at 0x92e9a48>,\n",
       " <Element a at 0x92e9a98>,\n",
       " <Element a at 0x92e9ae8>,\n",
       " <Element a at 0x92e9b38>,\n",
       " <Element a at 0x92e9b88>,\n",
       " <Element a at 0x92e9bd8>,\n",
       " <Element a at 0x92e9c28>,\n",
       " <Element a at 0x92e9c78>,\n",
       " <Element a at 0x92e9cc8>,\n",
       " <Element a at 0x92e9d18>,\n",
       " <Element a at 0x92e9d68>,\n",
       " <Element a at 0x92e9db8>,\n",
       " <Element a at 0x92e9e08>,\n",
       " <Element a at 0x92e9e58>,\n",
       " <Element a at 0x92e9ea8>,\n",
       " <Element a at 0x92e9ef8>,\n",
       " <Element a at 0x92e9f48>,\n",
       " <Element a at 0x92e9f98>,\n",
       " <Element a at 0x92ea048>,\n",
       " <Element a at 0x92ea098>,\n",
       " <Element a at 0x92ea0e8>,\n",
       " <Element a at 0x92ea138>,\n",
       " <Element a at 0x92ea188>,\n",
       " <Element a at 0x92ea1d8>,\n",
       " <Element a at 0x92ea228>,\n",
       " <Element a at 0x92ea278>,\n",
       " <Element a at 0x92ea2c8>,\n",
       " <Element a at 0x92ea318>,\n",
       " <Element a at 0x92ea368>,\n",
       " <Element a at 0x92ea3b8>,\n",
       " <Element a at 0x92ea408>,\n",
       " <Element a at 0x92ea458>,\n",
       " <Element a at 0x92ea4a8>,\n",
       " <Element a at 0x92ea4f8>,\n",
       " <Element a at 0x92ea548>,\n",
       " <Element a at 0x92ea598>,\n",
       " <Element a at 0x92ea5e8>,\n",
       " <Element a at 0x92ea638>,\n",
       " <Element a at 0x92ea688>,\n",
       " <Element a at 0x92ea6d8>,\n",
       " <Element a at 0x92ea728>,\n",
       " <Element a at 0x92ea778>,\n",
       " <Element a at 0x92ea7c8>,\n",
       " <Element a at 0x92ea818>,\n",
       " <Element a at 0x92ea868>,\n",
       " <Element a at 0x92ea8b8>,\n",
       " <Element a at 0x92ea908>,\n",
       " <Element a at 0x92ea958>,\n",
       " <Element a at 0x92ea9a8>,\n",
       " <Element a at 0x92ea9f8>,\n",
       " <Element a at 0x92eaa48>,\n",
       " <Element a at 0x92eaa98>,\n",
       " <Element a at 0x92eaae8>,\n",
       " <Element a at 0x92eab38>,\n",
       " <Element a at 0x92eab88>,\n",
       " <Element a at 0x92eabd8>,\n",
       " <Element a at 0x92eac28>,\n",
       " <Element a at 0x92eac78>,\n",
       " <Element a at 0x92eacc8>,\n",
       " <Element a at 0x92ead18>,\n",
       " <Element a at 0x92ead68>,\n",
       " <Element a at 0x92eadb8>,\n",
       " <Element a at 0x92eae08>,\n",
       " <Element a at 0x92eae58>,\n",
       " <Element a at 0x92eaea8>,\n",
       " <Element a at 0x92eaef8>,\n",
       " <Element a at 0x92eaf48>,\n",
       " <Element a at 0x92eaf98>,\n",
       " <Element a at 0x92eb048>,\n",
       " <Element a at 0x92eb098>,\n",
       " <Element a at 0x92eb0e8>,\n",
       " <Element a at 0x92eb138>,\n",
       " <Element a at 0x92eb188>,\n",
       " <Element a at 0x92eb1d8>,\n",
       " <Element a at 0x92eb228>,\n",
       " <Element a at 0x92eb278>,\n",
       " <Element a at 0x92eb2c8>,\n",
       " <Element a at 0x92eb318>,\n",
       " <Element a at 0x92eb368>,\n",
       " <Element a at 0x92eb3b8>,\n",
       " <Element a at 0x92eb408>,\n",
       " <Element a at 0x92eb458>,\n",
       " <Element a at 0x92eb4a8>,\n",
       " <Element a at 0x92eb4f8>,\n",
       " <Element a at 0x92eb548>,\n",
       " <Element a at 0x92eb598>,\n",
       " <Element a at 0x92eb5e8>,\n",
       " <Element a at 0x92eb638>,\n",
       " <Element a at 0x92eb688>,\n",
       " <Element a at 0x92eb6d8>,\n",
       " <Element a at 0x92eb728>,\n",
       " <Element a at 0x92eb778>,\n",
       " <Element a at 0x92eb7c8>,\n",
       " <Element a at 0x92eb818>,\n",
       " <Element a at 0x92eb868>,\n",
       " <Element a at 0x92eb8b8>,\n",
       " <Element a at 0x92eb908>,\n",
       " <Element a at 0x92eb958>,\n",
       " <Element a at 0x92eb9a8>,\n",
       " <Element a at 0x92eb9f8>,\n",
       " <Element a at 0x92eba48>,\n",
       " <Element a at 0x92eba98>,\n",
       " <Element a at 0x92ebae8>,\n",
       " <Element a at 0x92ebb38>,\n",
       " <Element a at 0x92ebb88>,\n",
       " <Element a at 0x92ebbd8>,\n",
       " <Element a at 0x92ebc28>,\n",
       " <Element a at 0x92ebc78>,\n",
       " <Element a at 0x92ebcc8>,\n",
       " <Element a at 0x92ebd18>,\n",
       " <Element a at 0x92ebd68>,\n",
       " <Element a at 0x92ebdb8>,\n",
       " <Element a at 0x92ebe08>,\n",
       " <Element a at 0x92ebe58>,\n",
       " <Element a at 0x92ebea8>,\n",
       " <Element a at 0x92ebef8>,\n",
       " <Element a at 0x92ebf48>,\n",
       " <Element a at 0x92ebf98>,\n",
       " <Element a at 0x92ec048>,\n",
       " <Element a at 0x92ec098>,\n",
       " <Element a at 0x92ec0e8>,\n",
       " <Element a at 0x92ec138>,\n",
       " <Element a at 0x92ec188>]"
      ]
     },
     "execution_count": 41,
     "metadata": {},
     "output_type": "execute_result"
    }
   ],
   "source": [
    "root.cssselect('a')"
   ]
  },
  {
   "cell_type": "markdown",
   "metadata": {
    "slideshow": {
     "slide_type": "slide"
    }
   },
   "source": [
    "## 속성\n",
    "\n",
    "HTML 태그는 **속성**(attribute)라는 추가 정보를 포함한다. 대표적인 것은 다음과 같다.\n",
    "\n",
    "- `id`: 노드의 고유 아이디\n",
    "- `class`: 노드의 서식 유형\n",
    "- `href`: `a` 태그에만 사용. 링크된 주소."
   ]
  },
  {
   "cell_type": "markdown",
   "metadata": {
    "slideshow": {
     "slide_type": "subslide"
    }
   },
   "source": [
    "## CSS 선택자\n",
    "\n",
    "- HTML에서 특정 노드를 선택하기 위한 표기법\n",
    "- `.cssselect` 함수에 사용한다"
   ]
  },
  {
   "cell_type": "markdown",
   "metadata": {
    "slideshow": {
     "slide_type": "subslide"
    }
   },
   "source": [
    "## 클래스의 선택자\n",
    "\n",
    "- 특정 class의 태그를 지정할 때는 `태그.클래스`와 같이 `.`으로 표시한다\n",
    "- 선택자에서 `p.tit`는 HTML에서 `<p class=\"tit\">`"
   ]
  },
  {
   "cell_type": "markdown",
   "metadata": {
    "slideshow": {
     "slide_type": "subslide"
    }
   },
   "source": [
    "## 클래스가 2개일 때\n",
    "\n",
    "- `태그.클래스1.클래스2`와 같이 `.`으로 구분하여 표시한다\n",
    "- 선택자에서 `p.tit.ellipsis`는 HTML에서 `<p class=\"tit ellipsis\">`\n",
    "- `p.tit`이나 `p.ellipsis`만 해도 `p.tit.ellipsis`는 선택 된다"
   ]
  },
  {
   "cell_type": "markdown",
   "metadata": {
    "slideshow": {
     "slide_type": "subslide"
    }
   },
   "source": [
    "## 포함관계인 노드의 선택자\n",
    "\n",
    "\n",
    "\n",
    "```html\n",
    "<p class=\"tit ellipsis\">\n",
    "    <a href=\"...\">아우디 A8</a>\n",
    "</p>\n",
    "```\n",
    "\n",
    "- 위의 예는 `p` 태그 안에 `a` 태그가 포함됨\n",
    "- 선택자에서 포함관계는 공백으로 표시: `p.tit a`"
   ]
  },
  {
   "cell_type": "code",
   "execution_count": 42,
   "metadata": {
    "slideshow": {
     "slide_type": "fragment"
    }
   },
   "outputs": [],
   "source": [
    "links = root.cssselect('.mlist2.no_bg a')"
   ]
  },
  {
   "cell_type": "code",
   "execution_count": 43,
   "metadata": {
    "slideshow": {
     "slide_type": "fragment"
    }
   },
   "outputs": [
    {
     "data": {
      "text/plain": [
       "[<Element a at 0x92e8908>,\n",
       " <Element a at 0x92e8958>,\n",
       " <Element a at 0x92e89a8>,\n",
       " <Element a at 0x92e89f8>,\n",
       " <Element a at 0x92e8a48>,\n",
       " <Element a at 0x92e8d18>,\n",
       " <Element a at 0x92e8d68>,\n",
       " <Element a at 0x92e8db8>,\n",
       " <Element a at 0x92e8e08>,\n",
       " <Element a at 0x92e8e58>,\n",
       " <Element a at 0x92e9188>,\n",
       " <Element a at 0x92e91d8>,\n",
       " <Element a at 0x92e9228>,\n",
       " <Element a at 0x92e9278>,\n",
       " <Element a at 0x92e92c8>,\n",
       " <Element a at 0x92e9598>,\n",
       " <Element a at 0x92e95e8>,\n",
       " <Element a at 0x92e9638>,\n",
       " <Element a at 0x92e9688>,\n",
       " <Element a at 0x92e96d8>,\n",
       " <Element a at 0x92e98b8>,\n",
       " <Element a at 0x92e9908>,\n",
       " <Element a at 0x92e9958>,\n",
       " <Element a at 0x92e99a8>,\n",
       " <Element a at 0x92e99f8>,\n",
       " <Element a at 0x92e9cc8>,\n",
       " <Element a at 0x92e9d18>,\n",
       " <Element a at 0x92e9d68>,\n",
       " <Element a at 0x92e9db8>,\n",
       " <Element a at 0x92e9e08>]"
      ]
     },
     "execution_count": 43,
     "metadata": {},
     "output_type": "execute_result"
    }
   ],
   "source": [
    "links"
   ]
  },
  {
   "cell_type": "markdown",
   "metadata": {
    "slideshow": {
     "slide_type": "slide"
    }
   },
   "source": [
    "## href 속성 모으기\n",
    "\n",
    "링크의 걸린 주소를 수집한다"
   ]
  },
  {
   "cell_type": "code",
   "execution_count": 44,
   "metadata": {},
   "outputs": [],
   "source": [
    "link = links[0]"
   ]
  },
  {
   "cell_type": "code",
   "execution_count": 45,
   "metadata": {},
   "outputs": [
    {
     "data": {
      "text/plain": [
       "'https://news.naver.com/main/read.nhn?mode=LSD&mid=shm&sid1=100&oid=011&aid=0003582680'"
      ]
     },
     "execution_count": 45,
     "metadata": {},
     "output_type": "execute_result"
    }
   ],
   "source": [
    "link.attrib['href'] "
   ]
  },
  {
   "cell_type": "code",
   "execution_count": 46,
   "metadata": {
    "slideshow": {
     "slide_type": "subslide"
    }
   },
   "outputs": [
    {
     "name": "stdout",
     "output_type": "stream",
     "text": [
      "https://news.naver.com/main/read.nhn?mode=LSD&mid=shm&sid1=100&oid=011&aid=0003582680\n",
      "https://news.naver.com/main/read.nhn?mode=LSD&mid=shm&sid1=100&oid=421&aid=0004081786\n",
      "https://news.naver.com/main/read.nhn?mode=LSD&mid=shm&sid1=100&oid=008&aid=0004245062\n",
      "https://news.naver.com/main/read.nhn?mode=LSD&mid=shm&sid1=100&oid=001&aid=0010939245\n",
      "https://news.naver.com/main/read.nhn?mode=LSD&mid=shm&sid1=100&oid=001&aid=0010939228\n",
      "https://news.naver.com/main/read.nhn?mode=LSD&mid=shm&sid1=101&oid=030&aid=0002826907\n",
      "https://news.naver.com/main/read.nhn?mode=LSD&mid=shm&sid1=101&oid=030&aid=0002826905\n",
      "https://news.naver.com/main/read.nhn?mode=LSD&mid=shm&sid1=101&oid=029&aid=0002538618\n",
      "https://news.naver.com/main/read.nhn?mode=LSD&mid=shm&sid1=101&oid=005&aid=0001215772\n",
      "https://news.naver.com/main/read.nhn?mode=LSD&mid=shm&sid1=101&oid=008&aid=0004245065\n",
      "https://news.naver.com/main/read.nhn?mode=LSD&mid=shm&sid1=102&oid=079&aid=0003246462\n",
      "https://news.naver.com/main/read.nhn?mode=LSD&mid=shm&sid1=102&oid=079&aid=0003246461\n",
      "https://news.naver.com/main/read.nhn?mode=LSD&mid=shm&sid1=102&oid=079&aid=0003246460\n",
      "https://news.naver.com/main/read.nhn?mode=LSD&mid=shm&sid1=102&oid=047&aid=0002232805\n",
      "https://news.naver.com/main/read.nhn?mode=LSD&mid=shm&sid1=102&oid=030&aid=0002826902\n",
      "https://news.naver.com/main/read.nhn?mode=LSD&mid=shm&sid1=103&oid=001&aid=0010939165\n",
      "https://news.naver.com/main/read.nhn?mode=LSD&mid=shm&sid1=103&oid=346&aid=0000027112\n",
      "https://news.naver.com/main/read.nhn?mode=LSD&mid=shm&sid1=103&oid=005&aid=0001215751\n",
      "https://news.naver.com/main/read.nhn?mode=LSD&mid=shm&sid1=103&oid=001&aid=0010939062\n",
      "https://news.naver.com/main/read.nhn?mode=LSD&mid=shm&sid1=103&oid=296&aid=0000041936\n",
      "https://news.naver.com/main/read.nhn?mode=LSD&mid=shm&sid1=104&oid=081&aid=0003012403\n",
      "https://news.naver.com/main/read.nhn?mode=LSD&mid=shm&sid1=104&oid=008&aid=0004245053\n",
      "https://news.naver.com/main/read.nhn?mode=LSD&mid=shm&sid1=104&oid=025&aid=0002920661\n",
      "https://news.naver.com/main/read.nhn?mode=LSD&mid=shm&sid1=104&oid=018&aid=0004420435\n",
      "https://news.naver.com/main/read.nhn?mode=LSD&mid=shm&sid1=104&oid=001&aid=0010939124\n",
      "https://news.naver.com/main/read.nhn?mode=LSD&mid=shm&sid1=105&oid=030&aid=0002826881\n",
      "https://news.naver.com/main/read.nhn?mode=LSD&mid=shm&sid1=105&oid=417&aid=0000426879\n",
      "https://news.naver.com/main/read.nhn?mode=LSD&mid=shm&sid1=105&oid=092&aid=0002165791\n",
      "https://news.naver.com/main/read.nhn?mode=LSD&mid=shm&sid1=105&oid=030&aid=0002826874\n",
      "https://news.naver.com/main/read.nhn?mode=LSD&mid=shm&sid1=105&oid=030&aid=0002826872\n"
     ]
    }
   ],
   "source": [
    "for link in links:\n",
    "    print(link.attrib['href'])"
   ]
  },
  {
   "cell_type": "code",
   "execution_count": 47,
   "metadata": {},
   "outputs": [],
   "source": [
    "x = [1,2,3]"
   ]
  },
  {
   "cell_type": "code",
   "execution_count": 48,
   "metadata": {},
   "outputs": [],
   "source": [
    "x.append(5) "
   ]
  },
  {
   "cell_type": "code",
   "execution_count": 49,
   "metadata": {},
   "outputs": [
    {
     "data": {
      "text/plain": [
       "[1, 2, 3, 5]"
      ]
     },
     "execution_count": 49,
     "metadata": {},
     "output_type": "execute_result"
    }
   ],
   "source": [
    "x"
   ]
  },
  {
   "cell_type": "code",
   "execution_count": 50,
   "metadata": {
    "slideshow": {
     "slide_type": "subslide"
    }
   },
   "outputs": [],
   "source": [
    "urls = []\n",
    "for link in links:\n",
    "    urls.append(link.attrib['href'])"
   ]
  },
  {
   "cell_type": "code",
   "execution_count": 51,
   "metadata": {},
   "outputs": [
    {
     "data": {
      "text/plain": [
       "['https://news.naver.com/main/read.nhn?mode=LSD&mid=shm&sid1=100&oid=011&aid=0003582680',\n",
       " 'https://news.naver.com/main/read.nhn?mode=LSD&mid=shm&sid1=100&oid=421&aid=0004081786',\n",
       " 'https://news.naver.com/main/read.nhn?mode=LSD&mid=shm&sid1=100&oid=008&aid=0004245062',\n",
       " 'https://news.naver.com/main/read.nhn?mode=LSD&mid=shm&sid1=100&oid=001&aid=0010939245',\n",
       " 'https://news.naver.com/main/read.nhn?mode=LSD&mid=shm&sid1=100&oid=001&aid=0010939228',\n",
       " 'https://news.naver.com/main/read.nhn?mode=LSD&mid=shm&sid1=101&oid=030&aid=0002826907',\n",
       " 'https://news.naver.com/main/read.nhn?mode=LSD&mid=shm&sid1=101&oid=030&aid=0002826905',\n",
       " 'https://news.naver.com/main/read.nhn?mode=LSD&mid=shm&sid1=101&oid=029&aid=0002538618',\n",
       " 'https://news.naver.com/main/read.nhn?mode=LSD&mid=shm&sid1=101&oid=005&aid=0001215772',\n",
       " 'https://news.naver.com/main/read.nhn?mode=LSD&mid=shm&sid1=101&oid=008&aid=0004245065',\n",
       " 'https://news.naver.com/main/read.nhn?mode=LSD&mid=shm&sid1=102&oid=079&aid=0003246462',\n",
       " 'https://news.naver.com/main/read.nhn?mode=LSD&mid=shm&sid1=102&oid=079&aid=0003246461',\n",
       " 'https://news.naver.com/main/read.nhn?mode=LSD&mid=shm&sid1=102&oid=079&aid=0003246460',\n",
       " 'https://news.naver.com/main/read.nhn?mode=LSD&mid=shm&sid1=102&oid=047&aid=0002232805',\n",
       " 'https://news.naver.com/main/read.nhn?mode=LSD&mid=shm&sid1=102&oid=030&aid=0002826902',\n",
       " 'https://news.naver.com/main/read.nhn?mode=LSD&mid=shm&sid1=103&oid=001&aid=0010939165',\n",
       " 'https://news.naver.com/main/read.nhn?mode=LSD&mid=shm&sid1=103&oid=346&aid=0000027112',\n",
       " 'https://news.naver.com/main/read.nhn?mode=LSD&mid=shm&sid1=103&oid=005&aid=0001215751',\n",
       " 'https://news.naver.com/main/read.nhn?mode=LSD&mid=shm&sid1=103&oid=001&aid=0010939062',\n",
       " 'https://news.naver.com/main/read.nhn?mode=LSD&mid=shm&sid1=103&oid=296&aid=0000041936',\n",
       " 'https://news.naver.com/main/read.nhn?mode=LSD&mid=shm&sid1=104&oid=081&aid=0003012403',\n",
       " 'https://news.naver.com/main/read.nhn?mode=LSD&mid=shm&sid1=104&oid=008&aid=0004245053',\n",
       " 'https://news.naver.com/main/read.nhn?mode=LSD&mid=shm&sid1=104&oid=025&aid=0002920661',\n",
       " 'https://news.naver.com/main/read.nhn?mode=LSD&mid=shm&sid1=104&oid=018&aid=0004420435',\n",
       " 'https://news.naver.com/main/read.nhn?mode=LSD&mid=shm&sid1=104&oid=001&aid=0010939124',\n",
       " 'https://news.naver.com/main/read.nhn?mode=LSD&mid=shm&sid1=105&oid=030&aid=0002826881',\n",
       " 'https://news.naver.com/main/read.nhn?mode=LSD&mid=shm&sid1=105&oid=417&aid=0000426879',\n",
       " 'https://news.naver.com/main/read.nhn?mode=LSD&mid=shm&sid1=105&oid=092&aid=0002165791',\n",
       " 'https://news.naver.com/main/read.nhn?mode=LSD&mid=shm&sid1=105&oid=030&aid=0002826874',\n",
       " 'https://news.naver.com/main/read.nhn?mode=LSD&mid=shm&sid1=105&oid=030&aid=0002826872']"
      ]
     },
     "execution_count": 51,
     "metadata": {},
     "output_type": "execute_result"
    }
   ],
   "source": [
    "urls"
   ]
  },
  {
   "cell_type": "markdown",
   "metadata": {
    "slideshow": {
     "slide_type": "slide"
    }
   },
   "source": [
    "## 상대주소\n",
    "\n",
    "- `/mycar/mycar_view.php?no=1944109&gubun=K`는 스키마와 호스트가 생략된 상대주소\n",
    "\n",
    "- 원래 주소 `http://www.bobaedream.co.kr/mycar/mycar_list.php?sel_m_gubun=ALL&page=2`를 이용해 절대주소로 변환"
   ]
  },
  {
   "cell_type": "code",
   "execution_count": 52,
   "metadata": {},
   "outputs": [],
   "source": [
    "import urllib.parse"
   ]
  },
  {
   "cell_type": "code",
   "execution_count": 53,
   "metadata": {
    "slideshow": {
     "slide_type": "fragment"
    }
   },
   "outputs": [
    {
     "data": {
      "text/plain": [
       "'https://news.naver.com/mycar/mycar_view.php?no=1944109&gubun=K'"
      ]
     },
     "execution_count": 53,
     "metadata": {},
     "output_type": "execute_result"
    }
   ],
   "source": [
    "urllib.parse.urljoin(url, '/mycar/mycar_view.php?no=1944109&gubun=K')"
   ]
  },
  {
   "cell_type": "markdown",
   "metadata": {
    "slideshow": {
     "slide_type": "subslide"
    }
   },
   "source": [
    "## 링크된 주소를 절대 주소로 수집"
   ]
  },
  {
   "cell_type": "code",
   "execution_count": 54,
   "metadata": {
    "slideshow": {
     "slide_type": "fragment"
    }
   },
   "outputs": [],
   "source": [
    "urls = []\n",
    "for link in links:\n",
    "    href = urllib.parse.urljoin(url, link.attrib['href'])\n",
    "    urls.append(href)"
   ]
  },
  {
   "cell_type": "code",
   "execution_count": 55,
   "metadata": {},
   "outputs": [
    {
     "data": {
      "text/plain": [
       "['https://news.naver.com/main/read.nhn?mode=LSD&mid=shm&sid1=100&oid=011&aid=0003582680',\n",
       " 'https://news.naver.com/main/read.nhn?mode=LSD&mid=shm&sid1=100&oid=421&aid=0004081786',\n",
       " 'https://news.naver.com/main/read.nhn?mode=LSD&mid=shm&sid1=100&oid=008&aid=0004245062',\n",
       " 'https://news.naver.com/main/read.nhn?mode=LSD&mid=shm&sid1=100&oid=001&aid=0010939245',\n",
       " 'https://news.naver.com/main/read.nhn?mode=LSD&mid=shm&sid1=100&oid=001&aid=0010939228',\n",
       " 'https://news.naver.com/main/read.nhn?mode=LSD&mid=shm&sid1=101&oid=030&aid=0002826907',\n",
       " 'https://news.naver.com/main/read.nhn?mode=LSD&mid=shm&sid1=101&oid=030&aid=0002826905',\n",
       " 'https://news.naver.com/main/read.nhn?mode=LSD&mid=shm&sid1=101&oid=029&aid=0002538618',\n",
       " 'https://news.naver.com/main/read.nhn?mode=LSD&mid=shm&sid1=101&oid=005&aid=0001215772',\n",
       " 'https://news.naver.com/main/read.nhn?mode=LSD&mid=shm&sid1=101&oid=008&aid=0004245065',\n",
       " 'https://news.naver.com/main/read.nhn?mode=LSD&mid=shm&sid1=102&oid=079&aid=0003246462',\n",
       " 'https://news.naver.com/main/read.nhn?mode=LSD&mid=shm&sid1=102&oid=079&aid=0003246461',\n",
       " 'https://news.naver.com/main/read.nhn?mode=LSD&mid=shm&sid1=102&oid=079&aid=0003246460',\n",
       " 'https://news.naver.com/main/read.nhn?mode=LSD&mid=shm&sid1=102&oid=047&aid=0002232805',\n",
       " 'https://news.naver.com/main/read.nhn?mode=LSD&mid=shm&sid1=102&oid=030&aid=0002826902',\n",
       " 'https://news.naver.com/main/read.nhn?mode=LSD&mid=shm&sid1=103&oid=001&aid=0010939165',\n",
       " 'https://news.naver.com/main/read.nhn?mode=LSD&mid=shm&sid1=103&oid=346&aid=0000027112',\n",
       " 'https://news.naver.com/main/read.nhn?mode=LSD&mid=shm&sid1=103&oid=005&aid=0001215751',\n",
       " 'https://news.naver.com/main/read.nhn?mode=LSD&mid=shm&sid1=103&oid=001&aid=0010939062',\n",
       " 'https://news.naver.com/main/read.nhn?mode=LSD&mid=shm&sid1=103&oid=296&aid=0000041936',\n",
       " 'https://news.naver.com/main/read.nhn?mode=LSD&mid=shm&sid1=104&oid=081&aid=0003012403',\n",
       " 'https://news.naver.com/main/read.nhn?mode=LSD&mid=shm&sid1=104&oid=008&aid=0004245053',\n",
       " 'https://news.naver.com/main/read.nhn?mode=LSD&mid=shm&sid1=104&oid=025&aid=0002920661',\n",
       " 'https://news.naver.com/main/read.nhn?mode=LSD&mid=shm&sid1=104&oid=018&aid=0004420435',\n",
       " 'https://news.naver.com/main/read.nhn?mode=LSD&mid=shm&sid1=104&oid=001&aid=0010939124',\n",
       " 'https://news.naver.com/main/read.nhn?mode=LSD&mid=shm&sid1=105&oid=030&aid=0002826881',\n",
       " 'https://news.naver.com/main/read.nhn?mode=LSD&mid=shm&sid1=105&oid=417&aid=0000426879',\n",
       " 'https://news.naver.com/main/read.nhn?mode=LSD&mid=shm&sid1=105&oid=092&aid=0002165791',\n",
       " 'https://news.naver.com/main/read.nhn?mode=LSD&mid=shm&sid1=105&oid=030&aid=0002826874',\n",
       " 'https://news.naver.com/main/read.nhn?mode=LSD&mid=shm&sid1=105&oid=030&aid=0002826872']"
      ]
     },
     "execution_count": 55,
     "metadata": {},
     "output_type": "execute_result"
    }
   ],
   "source": [
    "urls"
   ]
  },
  {
   "cell_type": "markdown",
   "metadata": {
    "slideshow": {
     "slide_type": "slide"
    }
   },
   "source": [
    "## 링크에서 텍스트를 추출"
   ]
  },
  {
   "cell_type": "code",
   "execution_count": 56,
   "metadata": {},
   "outputs": [],
   "source": [
    "texts = []\n",
    "for link in links:\n",
    "    texts.append(link.text_content())"
   ]
  },
  {
   "cell_type": "code",
   "execution_count": 57,
   "metadata": {},
   "outputs": [
    {
     "data": {
      "text/plain": [
       "[\"\\n                                                    한국당 '국토위' 집안싸움 점입가경\\n                                                \",\n",
       " '\\n                                                    김현미 \"총선 출마생각 변함없어…장관 임기 임명권자 뜻\"\\n                                                ',\n",
       " '\\n                                                    적폐수사, 극단적 선택에…한국당 \"윤석열 사과하라\" vs 與 \"朴정권부터\"\\n                                                ',\n",
       " '\\n                                                    \"향군 회장과 동석 불가\"…독립단체 \\'광복절행사 보이콧\\' 시사\\n                                                ',\n",
       " '\\n                                                    서욱 육군총장 \"동기생 생활관서 괴롭힘 발생…뿌리 뽑아야\"\\n                                                ',\n",
       " '\\n                                                    [데스크가만났습니다]최재호 무학 회장\"창립 90주년 맞아 새도약...국내 넘어 세계시장 도전\"\\n                                                ',\n",
       " \"\\n                                                    [단독]국내 플라스틱 소재 1위 'KEP' 두달째 조업 차질...삼성·LG 불똥 튀나\\n                                                \",\n",
       " '\\n                                                    대도시 높은 집값 때문에 28년 뒤 `逆이촌향도` 심화\\n                                                ',\n",
       " '\\n                                                    거세지는 ‘리브라 위협’… “금융위기 때 리브라로 ‘뱅크런’ 우려”\\n                                                ',\n",
       " \"\\n                                                    사모펀드 대표로 돌아온 '펀드 전략가' 조철희\\n                                                \",\n",
       " '\\n                                                    광양보건대 4개월된 총장 직위해제…\"부정채용? 사실 아냐\" 반발\\n                                                ',\n",
       " \"\\n                                                    정례회 기간, 월요일 아침…남원시의원 4명 '골프 회동' 논란\\n                                                \",\n",
       " \"\\n                                                    현장 책임자 조차 불분명한 '잠원동 사고'…'과실치사' 입건 검토\\n                                                \",\n",
       " '\\n                                                    \"일본은 경제보복 중단하고 피해자에게 사죄하라\"\\n                                                ',\n",
       " '\\n                                                    세포·유전자 치료제 개발 경쟁, 한국만 뒤쳐지나\\n                                                ',\n",
       " \"\\n                                                    공무원 반바지 '나비효과' 있을까…수원시청서 반바지 패션쇼\\n                                                \",\n",
       " \"\\n                                                    야식 없이 잠 안 온다면 '이것' 중독… 자가진단 해보세요\\n                                                \",\n",
       " '\\n                                                    그 아버지에 그 아들… 가난한 목회자에 양복 선물하는 ‘엘부림양복점’ 부자\\n                                                ',\n",
       " \"\\n                                                    그리스와 로마 이은 고대국가 '에트루리아'를 만나다(종합)\\n                                                \",\n",
       " \"\\n                                                    [전립선암 뼈전이 ①] 전립선암 말기 환자 70%, '뼈전이' 경험한다\\n                                                \",\n",
       " '\\n                                                    정체불명 개떼 습격받은 美 남성 변사…물린 자국만 100여개\\n                                                ',\n",
       " \"\\n                                                    美정곡 찌른 아베의 '경제보복', 침묵하는 트럼프\\n                                                \",\n",
       " '\\n                                                    분노한 트럼프 \"영국에 도움 안 돼\"…주미영국대사 정면 비판\\n                                                ',\n",
       " '\\n                                                    아베 뒤에 선 열광적 20대‥“日젊은이 70% 아베 지지”\\n                                                ',\n",
       " '\\n                                                    \"트럼프는 지독한 결벽증 환자…악수 싫어해\"\\n                                                ',\n",
       " '\\n                                                    이통3사, 갤럭시S10 5G 출고가 143만원으로 인하\\n                                                ',\n",
       " '\\n                                                    ‘갤럭시S10 5G’, 출고가 내리고 공시지원금 올려… 갤노트10 전초전?\\n                                                ',\n",
       " \"\\n                                                    카카오vs조이코퍼,  '톡채널' 이름 두고 갈등...왜?\\n                                                \",\n",
       " '\\n                                                    사감위, 게임산업과 합법사행산업 사이 회색지대 합법화 검토\\n                                                ',\n",
       " '\\n                                                    신규계약 0건, 지재권 침해....콘텐츠 차이나리스크 눈덩이처럼 불었다\\n                                                ']"
      ]
     },
     "execution_count": 57,
     "metadata": {},
     "output_type": "execute_result"
    }
   ],
   "source": [
    "texts"
   ]
  },
  {
   "cell_type": "markdown",
   "metadata": {
    "slideshow": {
     "slide_type": "slide"
    }
   },
   "source": [
    "## 수집된 주소를 저장"
   ]
  },
  {
   "cell_type": "code",
   "execution_count": 26,
   "metadata": {
    "slideshow": {
     "slide_type": "fragment"
    }
   },
   "outputs": [],
   "source": [
    "import pandas as pd"
   ]
  },
  {
   "cell_type": "code",
   "execution_count": 27,
   "metadata": {
    "slideshow": {
     "slide_type": "fragment"
    }
   },
   "outputs": [],
   "source": [
    "df = pd.DataFrame({'url': urls, 'text': texts})"
   ]
  },
  {
   "cell_type": "code",
   "execution_count": 28,
   "metadata": {
    "slideshow": {
     "slide_type": "subslide"
    }
   },
   "outputs": [
    {
     "data": {
      "text/html": [
       "<div>\n",
       "<style scoped>\n",
       "    .dataframe tbody tr th:only-of-type {\n",
       "        vertical-align: middle;\n",
       "    }\n",
       "\n",
       "    .dataframe tbody tr th {\n",
       "        vertical-align: top;\n",
       "    }\n",
       "\n",
       "    .dataframe thead th {\n",
       "        text-align: right;\n",
       "    }\n",
       "</style>\n",
       "<table border=\"1\" class=\"dataframe\">\n",
       "  <thead>\n",
       "    <tr style=\"text-align: right;\">\n",
       "      <th></th>\n",
       "      <th>url</th>\n",
       "      <th>text</th>\n",
       "    </tr>\n",
       "  </thead>\n",
       "  <tbody>\n",
       "    <tr>\n",
       "      <th>0</th>\n",
       "      <td>https://news.naver.com/main/read.nhn?mode=LSD&amp;...</td>\n",
       "      <td>\\n                                            ...</td>\n",
       "    </tr>\n",
       "    <tr>\n",
       "      <th>1</th>\n",
       "      <td>https://news.naver.com/main/read.nhn?mode=LSD&amp;...</td>\n",
       "      <td>\\n                                            ...</td>\n",
       "    </tr>\n",
       "    <tr>\n",
       "      <th>2</th>\n",
       "      <td>https://news.naver.com/main/read.nhn?mode=LSD&amp;...</td>\n",
       "      <td>\\n                                            ...</td>\n",
       "    </tr>\n",
       "    <tr>\n",
       "      <th>3</th>\n",
       "      <td>https://news.naver.com/main/read.nhn?mode=LSD&amp;...</td>\n",
       "      <td>\\n                                            ...</td>\n",
       "    </tr>\n",
       "    <tr>\n",
       "      <th>4</th>\n",
       "      <td>https://news.naver.com/main/read.nhn?mode=LSD&amp;...</td>\n",
       "      <td>\\n                                            ...</td>\n",
       "    </tr>\n",
       "  </tbody>\n",
       "</table>\n",
       "</div>"
      ],
      "text/plain": [
       "                                                 url  \\\n",
       "0  https://news.naver.com/main/read.nhn?mode=LSD&...   \n",
       "1  https://news.naver.com/main/read.nhn?mode=LSD&...   \n",
       "2  https://news.naver.com/main/read.nhn?mode=LSD&...   \n",
       "3  https://news.naver.com/main/read.nhn?mode=LSD&...   \n",
       "4  https://news.naver.com/main/read.nhn?mode=LSD&...   \n",
       "\n",
       "                                                text  \n",
       "0  \\n                                            ...  \n",
       "1  \\n                                            ...  \n",
       "2  \\n                                            ...  \n",
       "3  \\n                                            ...  \n",
       "4  \\n                                            ...  "
      ]
     },
     "execution_count": 28,
     "metadata": {},
     "output_type": "execute_result"
    }
   ],
   "source": [
    "df.head()"
   ]
  },
  {
   "cell_type": "code",
   "execution_count": 29,
   "metadata": {
    "slideshow": {
     "slide_type": "subslide"
    }
   },
   "outputs": [],
   "source": [
    "df.to_excel('news_0708_naver.xlsx')"
   ]
  },
  {
   "cell_type": "code",
   "execution_count": null,
   "metadata": {},
   "outputs": [],
   "source": []
  }
 ],
 "metadata": {
  "celltoolbar": "Slideshow",
  "kernelspec": {
   "display_name": "Python 3",
   "language": "python",
   "name": "python3"
  },
  "language_info": {
   "codemirror_mode": {
    "name": "ipython",
    "version": 3
   },
   "file_extension": ".py",
   "mimetype": "text/x-python",
   "name": "python",
   "nbconvert_exporter": "python",
   "pygments_lexer": "ipython3",
   "version": "3.7.3"
  }
 },
 "nbformat": 4,
 "nbformat_minor": 2
}
